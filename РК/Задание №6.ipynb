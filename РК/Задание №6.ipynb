{
 "cells": [
  {
   "cell_type": "code",
   "execution_count": 1,
   "metadata": {
    "collapsed": true
   },
   "outputs": [],
   "source": [
    "import matplotlib\n",
    "from mpl_toolkits import mplot3d\n",
    "import pandas as pd\n",
    "from matplotlib import pyplot as plt\n",
    "import numpy as np\n",
    "import seaborn as sns\n",
    "import os"
   ]
  },
  {
   "cell_type": "code",
   "execution_count": 2,
   "outputs": [
    {
     "name": "stdout",
     "output_type": "stream",
     "text": [
      "C:\\Users\\657432343536\\.atom\\Transactions.csv\n"
     ]
    }
   ],
   "source": [
    "path=os.environ[\"userprofile\"]+\"\\\\\"+\".atom\"+\"\\\\\"+\"Transactions.csv\"\n",
    "print(path)"
   ],
   "metadata": {
    "collapsed": false
   }
  },
  {
   "cell_type": "code",
   "execution_count": 3,
   "outputs": [
    {
     "name": "stdout",
     "output_type": "stream",
     "text": [
      "      Date_and_time_of_unloading  Product_code  Amount  Sale_amount  \\\n",
      "0            2020-01-01 23:00:00           144     1.0       280.00   \n",
      "1            2020-01-01 23:00:00           209     2.0       545.73   \n",
      "2            2020-01-01 23:00:00           213     2.0      1265.05   \n",
      "3            2020-01-01 23:00:00           217     1.0       630.00   \n",
      "4            2020-01-01 23:00:00           222     2.0      1104.75   \n",
      "...                          ...           ...     ...          ...   \n",
      "50079        2022-09-18 15:00:00          5316     6.0      1875.95   \n",
      "50080        2022-09-18 15:00:00          5317     2.0       555.95   \n",
      "50081        2022-09-18 15:00:00          5318     2.0       572.50   \n",
      "50082        2022-09-18 15:00:00          5321     1.0       300.00   \n",
      "50083        2022-09-18 15:00:00          5322     2.0       600.00   \n",
      "\n",
      "       Discount_amount   Profit  Percentage_markup  Discount_percentage  \n",
      "0                  NaN   155.00             124.00                  NaN  \n",
      "1               294.27    75.73              16.11                35.03  \n",
      "2                34.95   653.05             106.71                 2.69  \n",
      "3                70.00   220.50              53.85                10.00  \n",
      "4               195.25   393.75              55.38                15.02  \n",
      "...                ...      ...                ...                  ...  \n",
      "50079           104.05  1095.95             140.51                 5.26  \n",
      "50080           104.05   315.95             131.65                15.77  \n",
      "50081            87.50   312.50             120.19                13.26  \n",
      "50082              NaN   180.00             150.00                  NaN  \n",
      "50083              NaN   340.00             130.77                  NaN  \n",
      "\n",
      "[50084 rows x 8 columns]\n"
     ]
    }
   ],
   "source": [
    "data = pd.read_csv(path)\n",
    "print(data)"
   ],
   "metadata": {
    "collapsed": false
   }
  },
  {
   "cell_type": "code",
   "execution_count": 4,
   "outputs": [
    {
     "data": {
      "text/plain": "Date_and_time_of_unloading        0\nProduct_code                      0\nAmount                            0\nSale_amount                      51\nDiscount_amount               10202\nProfit                           14\nPercentage_markup              1939\nDiscount_percentage           10202\ndtype: int64"
     },
     "execution_count": 4,
     "metadata": {},
     "output_type": "execute_result"
    }
   ],
   "source": [
    "data.isnull().sum()"
   ],
   "metadata": {
    "collapsed": false
   }
  },
  {
   "cell_type": "code",
   "execution_count": 6,
   "outputs": [
    {
     "data": {
      "text/plain": "       Percentage_markup\ncount       48145.000000\nmean          109.184511\nstd          1182.538753\nmin          -100.000000\n25%            59.850000\n50%            84.210000\n75%           107.790000\nmax         79900.000000",
      "text/html": "<div>\n<style scoped>\n    .dataframe tbody tr th:only-of-type {\n        vertical-align: middle;\n    }\n\n    .dataframe tbody tr th {\n        vertical-align: top;\n    }\n\n    .dataframe thead th {\n        text-align: right;\n    }\n</style>\n<table border=\"1\" class=\"dataframe\">\n  <thead>\n    <tr style=\"text-align: right;\">\n      <th></th>\n      <th>Percentage_markup</th>\n    </tr>\n  </thead>\n  <tbody>\n    <tr>\n      <th>count</th>\n      <td>48145.000000</td>\n    </tr>\n    <tr>\n      <th>mean</th>\n      <td>109.184511</td>\n    </tr>\n    <tr>\n      <th>std</th>\n      <td>1182.538753</td>\n    </tr>\n    <tr>\n      <th>min</th>\n      <td>-100.000000</td>\n    </tr>\n    <tr>\n      <th>25%</th>\n      <td>59.850000</td>\n    </tr>\n    <tr>\n      <th>50%</th>\n      <td>84.210000</td>\n    </tr>\n    <tr>\n      <th>75%</th>\n      <td>107.790000</td>\n    </tr>\n    <tr>\n      <th>max</th>\n      <td>79900.000000</td>\n    </tr>\n  </tbody>\n</table>\n</div>"
     },
     "metadata": {},
     "output_type": "display_data"
    }
   ],
   "source": [
    "display(data[[\"Percentage_markup\"]].describe())"
   ],
   "metadata": {
    "collapsed": false
   }
  },
  {
   "cell_type": "code",
   "execution_count": 11,
   "outputs": [],
   "source": [
    "from sklearn.impute import SimpleImputer"
   ],
   "metadata": {
    "collapsed": false
   }
  },
  {
   "cell_type": "code",
   "execution_count": 12,
   "outputs": [],
   "source": [
    "data[\"Percentage_markup\"] = SimpleImputer(strategy =\n",
    "\"mean\").fit_transform(data[[\"Percentage_markup\"]])"
   ],
   "metadata": {
    "collapsed": false
   }
  },
  {
   "cell_type": "code",
   "execution_count": 13,
   "outputs": [
    {
     "data": {
      "text/plain": "(50084, 8)"
     },
     "metadata": {},
     "output_type": "display_data"
    },
    {
     "data": {
      "text/plain": "Percentage_markup    0\ndtype: int64"
     },
     "metadata": {},
     "output_type": "display_data"
    },
    {
     "data": {
      "text/plain": "       Percentage_markup\ncount       50084.000000\nmean          109.184511\nstd          1159.421366\nmin          -100.000000\n25%            60.920000\n50%            85.530000\n75%           109.184511\nmax         79900.000000",
      "text/html": "<div>\n<style scoped>\n    .dataframe tbody tr th:only-of-type {\n        vertical-align: middle;\n    }\n\n    .dataframe tbody tr th {\n        vertical-align: top;\n    }\n\n    .dataframe thead th {\n        text-align: right;\n    }\n</style>\n<table border=\"1\" class=\"dataframe\">\n  <thead>\n    <tr style=\"text-align: right;\">\n      <th></th>\n      <th>Percentage_markup</th>\n    </tr>\n  </thead>\n  <tbody>\n    <tr>\n      <th>count</th>\n      <td>50084.000000</td>\n    </tr>\n    <tr>\n      <th>mean</th>\n      <td>109.184511</td>\n    </tr>\n    <tr>\n      <th>std</th>\n      <td>1159.421366</td>\n    </tr>\n    <tr>\n      <th>min</th>\n      <td>-100.000000</td>\n    </tr>\n    <tr>\n      <th>25%</th>\n      <td>60.920000</td>\n    </tr>\n    <tr>\n      <th>50%</th>\n      <td>85.530000</td>\n    </tr>\n    <tr>\n      <th>75%</th>\n      <td>109.184511</td>\n    </tr>\n    <tr>\n      <th>max</th>\n      <td>79900.000000</td>\n    </tr>\n  </tbody>\n</table>\n</div>"
     },
     "metadata": {},
     "output_type": "display_data"
    }
   ],
   "source": [
    "display(data.shape)\n",
    "display(data[[\"Percentage_markup\"]].isnull().sum())\n",
    "display(data[[\"Percentage_markup\"]].describe())"
   ],
   "metadata": {
    "collapsed": false
   }
  },
  {
   "cell_type": "code",
   "execution_count": null,
   "outputs": [],
   "source": [],
   "metadata": {
    "collapsed": false
   }
  }
 ],
 "metadata": {
  "kernelspec": {
   "display_name": "Python 3",
   "language": "python",
   "name": "python3"
  },
  "language_info": {
   "codemirror_mode": {
    "name": "ipython",
    "version": 2
   },
   "file_extension": ".py",
   "mimetype": "text/x-python",
   "name": "python",
   "nbconvert_exporter": "python",
   "pygments_lexer": "ipython2",
   "version": "2.7.6"
  }
 },
 "nbformat": 4,
 "nbformat_minor": 0
}
