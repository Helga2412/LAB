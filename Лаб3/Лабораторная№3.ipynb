{
 "cells": [
  {
   "cell_type": "code",
   "execution_count": 1,
   "metadata": {
    "collapsed": true
   },
   "outputs": [],
   "source": [
    "import numpy as np\n",
    "import pandas as pd\n",
    "import seaborn as sns\n",
    "import matplotlib.pyplot as plt\n",
    "from sklearn.impute import SimpleImputer\n",
    "from sklearn.impute import MissingIndicator\n",
    "from sklearn.model_selection import train_test_split\n",
    "from sklearn.impute import KNNImputer\n",
    "from sklearn.preprocessing import StandardScaler\n",
    "from sklearn.linear_model import Lasso\n",
    "from sklearn.pipeline import Pipeline\n",
    "from sklearn.model_selection import GridSearchCV\n",
    "from sklearn.ensemble import RandomForestRegressor\n",
    "from sklearn.experimental import enable_iterative_imputer\n",
    "from sklearn.impute import IterativeImputer\n",
    "from IPython.display import Image\n",
    "import matplotlib\n",
    "from mpl_toolkits import mplot3d\n",
    "import pandas as pd\n",
    "from matplotlib import pyplot as plt\n",
    "import numpy as np\n",
    "import seaborn as sns\n",
    "import os\n",
    "%matplotlib inline\n",
    "sns.set(style=\"ticks\")"
   ]
  },
  {
   "cell_type": "code",
   "execution_count": 2,
   "outputs": [
    {
     "name": "stdout",
     "output_type": "stream",
     "text": [
      "C:\\Users\\657432343536\\.atom\\babies.csv\n"
     ]
    }
   ],
   "source": [
    "path=os.environ[\"userprofile\"]+\"\\\\\"+\".atom\"+\"\\\\\"+\"babies.csv\"\n",
    "print(path)"
   ],
   "metadata": {
    "collapsed": false
   }
  },
  {
   "cell_type": "code",
   "execution_count": 38,
   "outputs": [
    {
     "name": "stdout",
     "output_type": "stream",
     "text": [
      "      case  bwt  gestation  parity   age  height  weight  smoke\n",
      "0        1  120      284.0       0  27.0    62.0   100.0    0.0\n",
      "1        2  113      282.0       0  33.0    64.0   135.0    0.0\n",
      "2        3  128      279.0       0  28.0    64.0   115.0    1.0\n",
      "3        4  123        NaN       0  36.0    69.0   190.0    0.0\n",
      "4        5  108      282.0       0  23.0    67.0   125.0    1.0\n",
      "...    ...  ...        ...     ...   ...     ...     ...    ...\n",
      "1231  1232  113      275.0       1  27.0    60.0   100.0    0.0\n",
      "1232  1233  128      265.0       0  24.0    67.0   120.0    0.0\n",
      "1233  1234  130      291.0       0  30.0    65.0   150.0    1.0\n",
      "1234  1235  125      281.0       1  21.0    65.0   110.0    0.0\n",
      "1235  1236  117      297.0       0  38.0    65.0   129.0    0.0\n",
      "\n",
      "[1236 rows x 8 columns]\n"
     ]
    }
   ],
   "source": [
    "data = pd.read_csv(path)\n",
    "print(data)"
   ],
   "metadata": {
    "collapsed": false
   }
  },
  {
   "cell_type": "code",
   "execution_count": 39,
   "outputs": [
    {
     "data": {
      "text/plain": "(1236, 8)"
     },
     "execution_count": 39,
     "metadata": {},
     "output_type": "execute_result"
    }
   ],
   "source": [
    "data.shape"
   ],
   "metadata": {
    "collapsed": false
   }
  },
  {
   "cell_type": "code",
   "execution_count": 40,
   "outputs": [
    {
     "data": {
      "text/plain": "   case  bwt  gestation  parity   age  height  weight  smoke\n0     1  120      284.0       0  27.0    62.0   100.0    0.0\n1     2  113      282.0       0  33.0    64.0   135.0    0.0\n2     3  128      279.0       0  28.0    64.0   115.0    1.0\n3     4  123        NaN       0  36.0    69.0   190.0    0.0\n4     5  108      282.0       0  23.0    67.0   125.0    1.0",
      "text/html": "<div>\n<style scoped>\n    .dataframe tbody tr th:only-of-type {\n        vertical-align: middle;\n    }\n\n    .dataframe tbody tr th {\n        vertical-align: top;\n    }\n\n    .dataframe thead th {\n        text-align: right;\n    }\n</style>\n<table border=\"1\" class=\"dataframe\">\n  <thead>\n    <tr style=\"text-align: right;\">\n      <th></th>\n      <th>case</th>\n      <th>bwt</th>\n      <th>gestation</th>\n      <th>parity</th>\n      <th>age</th>\n      <th>height</th>\n      <th>weight</th>\n      <th>smoke</th>\n    </tr>\n  </thead>\n  <tbody>\n    <tr>\n      <th>0</th>\n      <td>1</td>\n      <td>120</td>\n      <td>284.0</td>\n      <td>0</td>\n      <td>27.0</td>\n      <td>62.0</td>\n      <td>100.0</td>\n      <td>0.0</td>\n    </tr>\n    <tr>\n      <th>1</th>\n      <td>2</td>\n      <td>113</td>\n      <td>282.0</td>\n      <td>0</td>\n      <td>33.0</td>\n      <td>64.0</td>\n      <td>135.0</td>\n      <td>0.0</td>\n    </tr>\n    <tr>\n      <th>2</th>\n      <td>3</td>\n      <td>128</td>\n      <td>279.0</td>\n      <td>0</td>\n      <td>28.0</td>\n      <td>64.0</td>\n      <td>115.0</td>\n      <td>1.0</td>\n    </tr>\n    <tr>\n      <th>3</th>\n      <td>4</td>\n      <td>123</td>\n      <td>NaN</td>\n      <td>0</td>\n      <td>36.0</td>\n      <td>69.0</td>\n      <td>190.0</td>\n      <td>0.0</td>\n    </tr>\n    <tr>\n      <th>4</th>\n      <td>5</td>\n      <td>108</td>\n      <td>282.0</td>\n      <td>0</td>\n      <td>23.0</td>\n      <td>67.0</td>\n      <td>125.0</td>\n      <td>1.0</td>\n    </tr>\n  </tbody>\n</table>\n</div>"
     },
     "execution_count": 40,
     "metadata": {},
     "output_type": "execute_result"
    }
   ],
   "source": [
    "data.head()"
   ],
   "metadata": {
    "collapsed": false
   }
  },
  {
   "cell_type": "code",
   "execution_count": 41,
   "outputs": [
    {
     "data": {
      "text/plain": "      case  bwt  gestation  parity   age  height  weight  smoke\n0        1  120      284.0       0  27.0    62.0   100.0    0.0\n1        2  113      282.0       0  33.0    64.0   135.0    0.0\n2        3  128      279.0       0  28.0    64.0   115.0    1.0\n3        4  123        NaN       0  36.0    69.0   190.0    0.0\n4        5  108      282.0       0  23.0    67.0   125.0    1.0\n...    ...  ...        ...     ...   ...     ...     ...    ...\n1231  1232  113      275.0       1  27.0    60.0   100.0    0.0\n1232  1233  128      265.0       0  24.0    67.0   120.0    0.0\n1233  1234  130      291.0       0  30.0    65.0   150.0    1.0\n1234  1235  125      281.0       1  21.0    65.0   110.0    0.0\n1235  1236  117      297.0       0  38.0    65.0   129.0    0.0\n\n[1236 rows x 8 columns]",
      "text/html": "<div>\n<style scoped>\n    .dataframe tbody tr th:only-of-type {\n        vertical-align: middle;\n    }\n\n    .dataframe tbody tr th {\n        vertical-align: top;\n    }\n\n    .dataframe thead th {\n        text-align: right;\n    }\n</style>\n<table border=\"1\" class=\"dataframe\">\n  <thead>\n    <tr style=\"text-align: right;\">\n      <th></th>\n      <th>case</th>\n      <th>bwt</th>\n      <th>gestation</th>\n      <th>parity</th>\n      <th>age</th>\n      <th>height</th>\n      <th>weight</th>\n      <th>smoke</th>\n    </tr>\n  </thead>\n  <tbody>\n    <tr>\n      <th>0</th>\n      <td>1</td>\n      <td>120</td>\n      <td>284.0</td>\n      <td>0</td>\n      <td>27.0</td>\n      <td>62.0</td>\n      <td>100.0</td>\n      <td>0.0</td>\n    </tr>\n    <tr>\n      <th>1</th>\n      <td>2</td>\n      <td>113</td>\n      <td>282.0</td>\n      <td>0</td>\n      <td>33.0</td>\n      <td>64.0</td>\n      <td>135.0</td>\n      <td>0.0</td>\n    </tr>\n    <tr>\n      <th>2</th>\n      <td>3</td>\n      <td>128</td>\n      <td>279.0</td>\n      <td>0</td>\n      <td>28.0</td>\n      <td>64.0</td>\n      <td>115.0</td>\n      <td>1.0</td>\n    </tr>\n    <tr>\n      <th>3</th>\n      <td>4</td>\n      <td>123</td>\n      <td>NaN</td>\n      <td>0</td>\n      <td>36.0</td>\n      <td>69.0</td>\n      <td>190.0</td>\n      <td>0.0</td>\n    </tr>\n    <tr>\n      <th>4</th>\n      <td>5</td>\n      <td>108</td>\n      <td>282.0</td>\n      <td>0</td>\n      <td>23.0</td>\n      <td>67.0</td>\n      <td>125.0</td>\n      <td>1.0</td>\n    </tr>\n    <tr>\n      <th>...</th>\n      <td>...</td>\n      <td>...</td>\n      <td>...</td>\n      <td>...</td>\n      <td>...</td>\n      <td>...</td>\n      <td>...</td>\n      <td>...</td>\n    </tr>\n    <tr>\n      <th>1231</th>\n      <td>1232</td>\n      <td>113</td>\n      <td>275.0</td>\n      <td>1</td>\n      <td>27.0</td>\n      <td>60.0</td>\n      <td>100.0</td>\n      <td>0.0</td>\n    </tr>\n    <tr>\n      <th>1232</th>\n      <td>1233</td>\n      <td>128</td>\n      <td>265.0</td>\n      <td>0</td>\n      <td>24.0</td>\n      <td>67.0</td>\n      <td>120.0</td>\n      <td>0.0</td>\n    </tr>\n    <tr>\n      <th>1233</th>\n      <td>1234</td>\n      <td>130</td>\n      <td>291.0</td>\n      <td>0</td>\n      <td>30.0</td>\n      <td>65.0</td>\n      <td>150.0</td>\n      <td>1.0</td>\n    </tr>\n    <tr>\n      <th>1234</th>\n      <td>1235</td>\n      <td>125</td>\n      <td>281.0</td>\n      <td>1</td>\n      <td>21.0</td>\n      <td>65.0</td>\n      <td>110.0</td>\n      <td>0.0</td>\n    </tr>\n    <tr>\n      <th>1235</th>\n      <td>1236</td>\n      <td>117</td>\n      <td>297.0</td>\n      <td>0</td>\n      <td>38.0</td>\n      <td>65.0</td>\n      <td>129.0</td>\n      <td>0.0</td>\n    </tr>\n  </tbody>\n</table>\n<p>1236 rows × 8 columns</p>\n</div>"
     },
     "execution_count": 41,
     "metadata": {},
     "output_type": "execute_result"
    }
   ],
   "source": [
    "data.dropna(axis=1,thresh=1095)"
   ],
   "metadata": {
    "collapsed": false
   }
  },
  {
   "cell_type": "code",
   "execution_count": 42,
   "outputs": [
    {
     "data": {
      "text/plain": "              case          bwt    gestation       parity          age  \\\ncount  1236.000000  1236.000000  1223.000000  1236.000000  1234.000000   \nmean    618.500000   119.576861   279.338512     0.254854    27.255267   \nstd     356.946775    18.236452    16.027693     0.435956     5.781405   \nmin       1.000000    55.000000   148.000000     0.000000    15.000000   \n25%     309.750000   108.750000   272.000000     0.000000    23.000000   \n50%     618.500000   120.000000   280.000000     0.000000    26.000000   \n75%     927.250000   131.000000   288.000000     1.000000    31.000000   \nmax    1236.000000   176.000000   353.000000     1.000000    45.000000   \n\n            height       weight        smoke  \ncount  1214.000000  1200.000000  1226.000000  \nmean     64.047776   128.625833     0.394780  \nstd       2.533409    20.971862     0.489003  \nmin      53.000000    87.000000     0.000000  \n25%      62.000000   114.750000     0.000000  \n50%      64.000000   125.000000     0.000000  \n75%      66.000000   139.000000     1.000000  \nmax      72.000000   250.000000     1.000000  ",
      "text/html": "<div>\n<style scoped>\n    .dataframe tbody tr th:only-of-type {\n        vertical-align: middle;\n    }\n\n    .dataframe tbody tr th {\n        vertical-align: top;\n    }\n\n    .dataframe thead th {\n        text-align: right;\n    }\n</style>\n<table border=\"1\" class=\"dataframe\">\n  <thead>\n    <tr style=\"text-align: right;\">\n      <th></th>\n      <th>case</th>\n      <th>bwt</th>\n      <th>gestation</th>\n      <th>parity</th>\n      <th>age</th>\n      <th>height</th>\n      <th>weight</th>\n      <th>smoke</th>\n    </tr>\n  </thead>\n  <tbody>\n    <tr>\n      <th>count</th>\n      <td>1236.000000</td>\n      <td>1236.000000</td>\n      <td>1223.000000</td>\n      <td>1236.000000</td>\n      <td>1234.000000</td>\n      <td>1214.000000</td>\n      <td>1200.000000</td>\n      <td>1226.000000</td>\n    </tr>\n    <tr>\n      <th>mean</th>\n      <td>618.500000</td>\n      <td>119.576861</td>\n      <td>279.338512</td>\n      <td>0.254854</td>\n      <td>27.255267</td>\n      <td>64.047776</td>\n      <td>128.625833</td>\n      <td>0.394780</td>\n    </tr>\n    <tr>\n      <th>std</th>\n      <td>356.946775</td>\n      <td>18.236452</td>\n      <td>16.027693</td>\n      <td>0.435956</td>\n      <td>5.781405</td>\n      <td>2.533409</td>\n      <td>20.971862</td>\n      <td>0.489003</td>\n    </tr>\n    <tr>\n      <th>min</th>\n      <td>1.000000</td>\n      <td>55.000000</td>\n      <td>148.000000</td>\n      <td>0.000000</td>\n      <td>15.000000</td>\n      <td>53.000000</td>\n      <td>87.000000</td>\n      <td>0.000000</td>\n    </tr>\n    <tr>\n      <th>25%</th>\n      <td>309.750000</td>\n      <td>108.750000</td>\n      <td>272.000000</td>\n      <td>0.000000</td>\n      <td>23.000000</td>\n      <td>62.000000</td>\n      <td>114.750000</td>\n      <td>0.000000</td>\n    </tr>\n    <tr>\n      <th>50%</th>\n      <td>618.500000</td>\n      <td>120.000000</td>\n      <td>280.000000</td>\n      <td>0.000000</td>\n      <td>26.000000</td>\n      <td>64.000000</td>\n      <td>125.000000</td>\n      <td>0.000000</td>\n    </tr>\n    <tr>\n      <th>75%</th>\n      <td>927.250000</td>\n      <td>131.000000</td>\n      <td>288.000000</td>\n      <td>1.000000</td>\n      <td>31.000000</td>\n      <td>66.000000</td>\n      <td>139.000000</td>\n      <td>1.000000</td>\n    </tr>\n    <tr>\n      <th>max</th>\n      <td>1236.000000</td>\n      <td>176.000000</td>\n      <td>353.000000</td>\n      <td>1.000000</td>\n      <td>45.000000</td>\n      <td>72.000000</td>\n      <td>250.000000</td>\n      <td>1.000000</td>\n    </tr>\n  </tbody>\n</table>\n</div>"
     },
     "execution_count": 42,
     "metadata": {},
     "output_type": "execute_result"
    }
   ],
   "source": [
    "data.describe()"
   ],
   "metadata": {
    "collapsed": false
   }
  },
  {
   "cell_type": "code",
   "execution_count": 43,
   "outputs": [
    {
     "data": {
      "text/plain": "[('case', ('int64', 0)),\n ('bwt', ('int64', 0)),\n ('gestation', ('float64', 13)),\n ('parity', ('int64', 0)),\n ('age', ('float64', 2)),\n ('height', ('float64', 22)),\n ('weight', ('float64', 36)),\n ('smoke', ('float64', 10))]"
     },
     "execution_count": 43,
     "metadata": {},
     "output_type": "execute_result"
    }
   ],
   "source": [
    "data_features = list(zip(\n",
    "# признаки\n",
    "[i for i in data.columns],\n",
    "zip(\n",
    "    # типы колонок\n",
    "    [str(i) for i in data.dtypes],\n",
    "    # проверим есть ли пропущенные значения\n",
    "    [i for i in data.isnull().sum()]\n",
    ")))\n",
    "# Признаки с типом данных и количеством пропусков\n",
    "data_features"
   ],
   "metadata": {
    "collapsed": false
   }
  },
  {
   "cell_type": "code",
   "execution_count": 44,
   "outputs": [],
   "source": [
    "def obj_col(column):\n",
    "    return column[1]=='object'\n",
    "col_names=[]\n",
    "for col in list(filter(obj_col,list(zip(list(data.columns),list(data.dtypes))))):\n",
    "    col_names.append(col[0])\n",
    "col_names.append('weight')"
   ],
   "metadata": {
    "collapsed": false
   }
  },
  {
   "cell_type": "code",
   "execution_count": 45,
   "outputs": [],
   "source": [
    "X_ALL=data.drop(col_names,axis=1)"
   ],
   "metadata": {
    "collapsed": false
   }
  },
  {
   "cell_type": "code",
   "execution_count": 46,
   "outputs": [],
   "source": [
    "def arr_to_df(arr_scaled):\n",
    "    res=pd.DataFrame(arr_scaled,columns=X_ALL.colums)\n",
    "    return res"
   ],
   "metadata": {
    "collapsed": false
   }
  },
  {
   "cell_type": "code",
   "execution_count": 47,
   "outputs": [
    {
     "ename": "AttributeError",
     "evalue": "'DataFrame' object has no attribute 'colums'",
     "output_type": "error",
     "traceback": [
      "\u001B[1;31m---------------------------------------------------------------------------\u001B[0m",
      "\u001B[1;31mAttributeError\u001B[0m                            Traceback (most recent call last)",
      "Cell \u001B[1;32mIn[47], line 3\u001B[0m\n\u001B[0;32m      1\u001B[0m X_train,X_test,y_train,y_test\u001B[38;5;241m=\u001B[39mtrain_test_split(X_ALL,data[\u001B[38;5;124m'\u001B[39m\u001B[38;5;124mweight\u001B[39m\u001B[38;5;124m'\u001B[39m],test_size\u001B[38;5;241m=\u001B[39m\u001B[38;5;241m0.2\u001B[39m,random_state\u001B[38;5;241m=\u001B[39m\u001B[38;5;241m1\u001B[39m)\n\u001B[1;32m----> 3\u001B[0m X_train_df\u001B[38;5;241m=\u001B[39m\u001B[43marr_to_df\u001B[49m\u001B[43m(\u001B[49m\u001B[43mX_train\u001B[49m\u001B[43m)\u001B[49m\n\u001B[0;32m      4\u001B[0m X_test_df\u001B[38;5;241m=\u001B[39marr_to_df(X_test)\n\u001B[0;32m      6\u001B[0m X_train_df\u001B[38;5;241m.\u001B[39mshape,X_test_df\u001B[38;5;241m.\u001B[39mshape\n",
      "Cell \u001B[1;32mIn[46], line 2\u001B[0m, in \u001B[0;36marr_to_df\u001B[1;34m(arr_scaled)\u001B[0m\n\u001B[0;32m      1\u001B[0m \u001B[38;5;28;01mdef\u001B[39;00m \u001B[38;5;21marr_to_df\u001B[39m(arr_scaled):\n\u001B[1;32m----> 2\u001B[0m     res\u001B[38;5;241m=\u001B[39mpd\u001B[38;5;241m.\u001B[39mDataFrame(arr_scaled,columns\u001B[38;5;241m=\u001B[39m\u001B[43mX_ALL\u001B[49m\u001B[38;5;241;43m.\u001B[39;49m\u001B[43mcolums\u001B[49m)\n\u001B[0;32m      3\u001B[0m     \u001B[38;5;28;01mreturn\u001B[39;00m res\n",
      "File \u001B[1;32mc:\\users\\657432343536\\appdata\\local\\programs\\python\\python39\\lib\\site-packages\\pandas\\core\\generic.py:5141\u001B[0m, in \u001B[0;36mNDFrame.__getattr__\u001B[1;34m(self, name)\u001B[0m\n\u001B[0;32m   5139\u001B[0m \u001B[38;5;28;01mif\u001B[39;00m \u001B[38;5;28mself\u001B[39m\u001B[38;5;241m.\u001B[39m_info_axis\u001B[38;5;241m.\u001B[39m_can_hold_identifiers_and_holds_name(name):\n\u001B[0;32m   5140\u001B[0m     \u001B[38;5;28;01mreturn\u001B[39;00m \u001B[38;5;28mself\u001B[39m[name]\n\u001B[1;32m-> 5141\u001B[0m \u001B[38;5;28;01mreturn\u001B[39;00m \u001B[38;5;28;43mobject\u001B[39;49m\u001B[38;5;241;43m.\u001B[39;49m\u001B[38;5;21;43m__getattribute__\u001B[39;49m\u001B[43m(\u001B[49m\u001B[38;5;28;43mself\u001B[39;49m\u001B[43m,\u001B[49m\u001B[43m \u001B[49m\u001B[43mname\u001B[49m\u001B[43m)\u001B[49m\n",
      "\u001B[1;31mAttributeError\u001B[0m: 'DataFrame' object has no attribute 'colums'"
     ]
    }
   ],
   "source": [
    "X_train,X_test,y_train,y_test=train_test_split(X_ALL,data['weight'],test_size=0.2,random_state=1)\n",
    "\n",
    "X_train_df=arr_to_df(X_train)\n",
    "X_test_df=arr_to_df(X_test)\n",
    "\n",
    "X_train_df.shape,X_test_df.shape"
   ],
   "metadata": {
    "collapsed": false
   }
  },
  {
   "cell_type": "code",
   "execution_count": 47,
   "outputs": [],
   "source": [],
   "metadata": {
    "collapsed": false
   }
  },
  {
   "cell_type": "code",
   "execution_count": null,
   "outputs": [],
   "source": [],
   "metadata": {
    "collapsed": false,
    "pycharm": {
     "is_executing": true
    }
   }
  },
  {
   "cell_type": "code",
   "execution_count": null,
   "outputs": [],
   "source": [],
   "metadata": {
    "collapsed": false,
    "pycharm": {
     "is_executing": true
    }
   }
  },
  {
   "cell_type": "code",
   "execution_count": null,
   "outputs": [],
   "source": [],
   "metadata": {
    "collapsed": false,
    "pycharm": {
     "is_executing": true
    }
   }
  },
  {
   "cell_type": "code",
   "execution_count": null,
   "outputs": [],
   "source": [],
   "metadata": {
    "collapsed": false,
    "pycharm": {
     "is_executing": true
    }
   }
  },
  {
   "cell_type": "code",
   "execution_count": 47,
   "outputs": [],
   "source": [],
   "metadata": {
    "collapsed": false
   }
  }
 ],
 "metadata": {
  "kernelspec": {
   "display_name": "Python 3",
   "language": "python",
   "name": "python3"
  },
  "language_info": {
   "codemirror_mode": {
    "name": "ipython",
    "version": 2
   },
   "file_extension": ".py",
   "mimetype": "text/x-python",
   "name": "python",
   "nbconvert_exporter": "python",
   "pygments_lexer": "ipython2",
   "version": "2.7.6"
  }
 },
 "nbformat": 4,
 "nbformat_minor": 0
}
